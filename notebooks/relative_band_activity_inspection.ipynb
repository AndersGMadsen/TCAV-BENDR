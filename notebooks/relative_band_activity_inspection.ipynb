{
 "cells": [
  {
   "cell_type": "code",
   "execution_count": 1,
   "metadata": {},
   "outputs": [],
   "source": [
    "import numpy as np\n",
    "from utils import *"
   ]
  },
  {
   "cell_type": "code",
   "execution_count": 2,
   "metadata": {},
   "outputs": [],
   "source": [
    "SNR = 100.0\n",
    "#PARCELLATION = 'aparc.a2009s'\n",
    "PARCELLATION = 'HCPMMP1_combined'\n",
    "DATA_PATH = '/home/williamtheodor/Documents/DL for EEG Classification/data/'\n",
    "\n",
    "data_dict = load_mmidb_data_dict(DATA_PATH, PARCELLATION, SNR, chop=True)"
   ]
  },
  {
   "cell_type": "code",
   "execution_count": 14,
   "metadata": {},
   "outputs": [
    {
     "data": {
      "text/plain": [
       "array([4, 4, 4, 0, 4, 1, 2, 4, 0, 4, 4, 1, 0, 4, 3, 0, 4, 0, 2, 4, 1, 0,\n",
       "       1, 4, 4, 4, 1, 4, 4, 2, 4, 4, 4, 4, 2, 4, 4, 3, 0, 4, 4, 2, 4, 1,\n",
       "       2, 2])"
      ]
     },
     "execution_count": 14,
     "metadata": {},
     "output_type": "execute_result"
    }
   ],
   "source": [
    "bands = ['Delta', 'Theta', 'Alpha', 'Beta', 'Gamma']\n",
    "\n",
    "patient = 'S001'\n",
    "baseline_run = 'R01'\n",
    "run = 'R08'\n",
    "\n",
    "baseline_activity = np.array([data_dict[band][patient][patient+baseline_run]['T0'][0] for band in bands])\n",
    "\n",
    "activity = [data_dict[band][patient][patient+run]['T0'][0] for band in bands]\n",
    "\n",
    "np.array(activity - baseline_activity).argmax(axis=0)"
   ]
  },
  {
   "cell_type": "code",
   "execution_count": null,
   "metadata": {},
   "outputs": [],
   "source": []
  }
 ],
 "metadata": {
  "kernelspec": {
   "display_name": "XAI",
   "language": "python",
   "name": "python3"
  },
  "language_info": {
   "codemirror_mode": {
    "name": "ipython",
    "version": 3
   },
   "file_extension": ".py",
   "mimetype": "text/x-python",
   "name": "python",
   "nbconvert_exporter": "python",
   "pygments_lexer": "ipython3",
   "version": "3.10.9"
  },
  "orig_nbformat": 4
 },
 "nbformat": 4,
 "nbformat_minor": 2
}
