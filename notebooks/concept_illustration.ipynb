{
 "cells": [
  {
   "cell_type": "code",
   "execution_count": 1,
   "metadata": {},
   "outputs": [],
   "source": [
    "from notebooks.utils import *"
   ]
  },
  {
   "cell_type": "code",
   "execution_count": 7,
   "metadata": {},
   "outputs": [],
   "source": [
    "random_edf_file_path = 'S001R03.edf' \n",
    "PARCELLATION = \"aparc.a2009s\"\n",
    "\n",
    "subjects_dir, subject, trans, src_path, bem_path = get_fsaverage()\n",
    "\n",
    "info = get_raw(random_edf_file_path, filter=True).info # Just need one raw to get info\n",
    "src = get_src(src_path)\n",
    "fwd = get_fwd(info, trans, src_path, bem_path)\n",
    "\n",
    "labels = get_labels(subjects_dir, parcellation_name = PARCELLATION)\n",
    "\n",
    "vertices = get_vertices(src)\n",
    "tris_vertices = get_vertices_tris(src)\n",
    "\n",
    "sources = get_sources(src)\n",
    "tris_sources = get_sources_tris(src)"
   ]
  },
  {
   "cell_type": "code",
   "execution_count": 8,
   "metadata": {},
   "outputs": [],
   "source": [
    "labels = get_labels(subjects_dir, parcellation_name=PARCELLATION)\n",
    "label_names = [label.name for label in np.array(labels).flatten()]\n",
    "\n",
    "activity = [[None]*len(labels[0]), [None]*len(labels[1])]\n",
    "\n",
    "for hemi in range(2):\n",
    "    for i, label in enumerate(labels[hemi]):\n",
    "        if 'front' in label.name:\n",
    "            activity[hemi][i] = 1\n",
    "        else:\n",
    "            activity[hemi][i] = 0"
   ]
  },
  {
   "cell_type": "code",
   "execution_count": null,
   "metadata": {},
   "outputs": [],
   "source": []
  }
 ],
 "metadata": {
  "kernelspec": {
   "display_name": "XAI",
   "language": "python",
   "name": "python3"
  },
  "language_info": {
   "codemirror_mode": {
    "name": "ipython",
    "version": 3
   },
   "file_extension": ".py",
   "mimetype": "text/x-python",
   "name": "python",
   "nbconvert_exporter": "python",
   "pygments_lexer": "ipython3",
   "version": "3.10.9"
  },
  "orig_nbformat": 4
 },
 "nbformat": 4,
 "nbformat_minor": 2
}
