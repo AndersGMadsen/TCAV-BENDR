{
 "cells": [
  {
   "cell_type": "code",
   "execution_count": 1,
   "metadata": {},
   "outputs": [],
   "source": [
    "import mne\n",
    "import torch\n",
    "import pickle\n",
    "import os, shutil\n",
    "import numpy as np\n",
    "from tqdm import tqdm\n",
    "\n",
    "from utils import load_mmidb_data_dict, get_fsaverage, get_labels, get_annotations, get_window_dict"
   ]
  },
  {
   "cell_type": "code",
   "execution_count": 2,
   "metadata": {},
   "outputs": [],
   "source": [
    "def pick_and_rename_MMIDB_channels(raw):\n",
    "    raw = raw.copy()\n",
    "    mne.channels.rename_channels(raw.info, {'Fp1': 'FP1', 'Fp2': 'FP2', 'Fz': 'FZ', 'Cz': 'CZ', 'Pz': 'PZ'})\n",
    "\n",
    "    \n",
    "    if 'P7' in raw.ch_names:\n",
    "        raw.rename_channels({'P7': 'T5'})\n",
    "    if 'P8' in raw.ch_names:\n",
    "        raw.rename_channels({'P8': 'T6'})\n",
    "\n",
    "    EEG_20_div = [\n",
    "                'FP1', 'FP2',\n",
    "        'F7', 'F3', 'FZ', 'F4', 'F8',\n",
    "        'T7', 'C3', 'CZ', 'C4', 'T8',\n",
    "        'T5', 'P3', 'PZ', 'P4', 'T6',\n",
    "                 'O1', 'O2'\n",
    "    ]\n",
    "    \n",
    "    raw.pick_channels(ch_names=EEG_20_div)\n",
    "    raw.reorder_channels(EEG_20_div)\n",
    "\n",
    "    return raw\n",
    "\n",
    "\n",
    "def get_raw(FILE, high_pass=0.5, low_pass=70, notch=60, SAMPLE_FREQ=256):\n",
    "    raw = mne.io.read_raw_edf(FILE, verbose=False, preload=True)\n",
    "    mne.datasets.eegbci.standardize(raw)  # Set channel names\n",
    "\n",
    "    # set reference to average + projection\n",
    "    raw = raw.set_eeg_reference(ref_channels='average', projection=True, verbose=False)\n",
    "\n",
    "    # set montage\n",
    "    montage = mne.channels.make_standard_montage('standard_1020')\n",
    "    raw = raw.set_montage(montage)\n",
    "\n",
    "    # resample\n",
    "    raw.resample(SAMPLE_FREQ, npad=\"auto\", verbose=False)\n",
    "\n",
    "    # filter\n",
    "    raw.filter(high_pass, low_pass, fir_design='firwin', verbose=False)\n",
    "    raw.notch_filter(notch, fir_design='firwin', verbose=False)\n",
    "\n",
    "    # pick and rename channels\n",
    "    raw = pick_and_rename_MMIDB_channels(raw)\n",
    "\n",
    "    return raw\n",
    "\n",
    "\n",
    "def make_concepts_folders(DATA_PATH_CONCEPTS, bands_to_use, label_names):\n",
    "\n",
    "    # remove and remake concepts folder\n",
    "    print('Removing and remaking concepts folder: ', DATA_PATH_CONCEPTS)\n",
    "\n",
    "    if os.path.exists(DATA_PATH_CONCEPTS):\n",
    "        shutil.rmtree(DATA_PATH_CONCEPTS)\n",
    "    os.mkdir(DATA_PATH_CONCEPTS)\n",
    "\n",
    "    for hemisphere in ['lh', 'rh']:\n",
    "        for band in bands_to_use:\n",
    "        # make directory if it doesn't exist\n",
    "            if not os.path.exists(f'{DATA_PATH_CONCEPTS}{band}_{hemisphere}'):\n",
    "                os.makedirs(f'{DATA_PATH_CONCEPTS}{band}_{hemisphere}')\n",
    "\n",
    "def normalize(x, minimum=-0.00125, maximum=0.00125):\n",
    "    return (x - minimum) / (maximum - minimum) * 2 - 1\n",
    "\n",
    "def save_concept(DATA_PATH_CONCEPTS, raw, concept, patient, run, idx, NUMBER_CHANNELS=20, NUMBER_SAMPLES=1024):\n",
    "\n",
    "    x = torch.zeros((1, NUMBER_CHANNELS, NUMBER_SAMPLES))\n",
    "    x[:, :NUMBER_CHANNELS-1, :] = torch.from_numpy(raw.copy().get_data()[:, :NUMBER_SAMPLES].reshape(1, NUMBER_CHANNELS-1, NUMBER_SAMPLES))\n",
    "    x = normalize(x)\n",
    "    x[:,NUMBER_CHANNELS-1,:] = torch.ones((1, NUMBER_SAMPLES)) * -1  \n",
    "    \n",
    "    picklePath = DATA_PATH_CONCEPTS + concept + '/' + patient + run + '_' + idx + '_' + concept + '.pkl'\n",
    "    with open(picklePath, 'wb') as handle:\n",
    "        pickle.dump(x, handle, protocol=pickle.HIGHEST_PROTOCOL)"
   ]
  },
  {
   "cell_type": "code",
   "execution_count": 3,
   "metadata": {},
   "outputs": [
    {
     "name": "stdout",
     "output_type": "stream",
     "text": [
      "Removing and remaking concepts folder:  /home/williamtheodor/Documents/DL for EEG Classification/data/left right concepts MMIDB/\n"
     ]
    }
   ],
   "source": [
    "# argparse?\n",
    "SNR = 100.0\n",
    "PARCELLATION = 'HCPMMP1_combined'\n",
    "\n",
    "# argparse\n",
    "DATA_PATH_RAW = '/home/williamtheodor/Documents/DL for EEG Classification/data/eegmmidb (raw)/files/'\n",
    "DATA_PATH_CONCEPTS = '/home/williamtheodor/Documents/DL for EEG Classification/data/left right concepts MMIDB/'\n",
    "ACTIVTY_DICT_PATH = '/home/williamtheodor/Documents/DL for EEG Classification/data/'\n",
    "\n",
    "\n",
    "activity_dict = load_mmidb_data_dict(ACTIVTY_DICT_PATH, PARCELLATION, SNR, chop=False)\n",
    "\n",
    "patients_to_exclude = ['S088', 'S089', 'S090', 'S092', 'S104', 'S106']\n",
    "patients = [key for key in activity_dict['Alpha'].keys() if key not in patients_to_exclude]\n",
    "\n",
    "bands = list(activity_dict.keys())\n",
    "bands_to_use = bands\n",
    "#bands_to_use = ['Alpha', 'Gamma'] #argparse\n",
    "\n",
    "baseline_runs = ['R01', 'R02']\n",
    "task_runs = ['R03', 'R04', 'R07', 'R08', 'R11', 'R12']\n",
    "\n",
    "runs_to_use = task_runs #argparse\n",
    "resting_state = False # true if using baseline runs\n",
    "\n",
    "codes = ['T0', 'T1', 'T2']\n",
    "codes_to_use = ['T1', 'T2'] #argparse\n",
    "\n",
    "subjects_dir, subject, trans, src_path, bem_path = get_fsaverage()\n",
    "labels = get_labels(subjects_dir, parcellation_name=PARCELLATION)\n",
    "label_names = [label.name for label in np.array(labels).flatten()]\n",
    "\n",
    "make_concepts_folders(DATA_PATH_CONCEPTS, bands_to_use, label_names)"
   ]
  },
  {
   "cell_type": "code",
   "execution_count": 4,
   "metadata": {},
   "outputs": [
    {
     "name": "stderr",
     "output_type": "stream",
     "text": [
      " 92%|█████████▏| 95/103 [03:17<00:16,  2.08s/it]/tmp/ipykernel_9332/3476600872.py:26: RuntimeWarning: Limited 1 annotation(s) that were expanding outside the data range.\n",
      "  raw = mne.io.read_raw_edf(FILE, verbose=False, preload=True)\n",
      "/tmp/ipykernel_9332/3476600872.py:26: RuntimeWarning: Limited 1 annotation(s) that were expanding outside the data range.\n",
      "  raw = mne.io.read_raw_edf(FILE, verbose=False, preload=True)\n",
      "/tmp/ipykernel_9332/3476600872.py:26: RuntimeWarning: Limited 1 annotation(s) that were expanding outside the data range.\n",
      "  raw = mne.io.read_raw_edf(FILE, verbose=False, preload=True)\n",
      "/tmp/ipykernel_9332/3476600872.py:26: RuntimeWarning: Limited 1 annotation(s) that were expanding outside the data range.\n",
      "  raw = mne.io.read_raw_edf(FILE, verbose=False, preload=True)\n",
      "/tmp/ipykernel_9332/3476600872.py:26: RuntimeWarning: Limited 1 annotation(s) that were expanding outside the data range.\n",
      "  raw = mne.io.read_raw_edf(FILE, verbose=False, preload=True)\n",
      "/tmp/ipykernel_9332/3476600872.py:26: RuntimeWarning: Limited 1 annotation(s) that were expanding outside the data range.\n",
      "  raw = mne.io.read_raw_edf(FILE, verbose=False, preload=True)\n",
      "100%|██████████| 103/103 [03:34<00:00,  2.08s/it]\n"
     ]
    }
   ],
   "source": [
    "number_labels = len(label_names)\n",
    "number_bands = len(bands_to_use)\n",
    "\n",
    "hemispheres = ['lh', 'rh']\n",
    "\n",
    "for patient in tqdm(patients):\n",
    "\n",
    "    if not resting_state:\n",
    "        baseline_run = 'R01'\n",
    "        baseline_activity_mean = np.array([activity_dict[band][patient][patient+baseline_run]['T0'].mean(axis=0) for band in bands_to_use])\n",
    "        baseline_activity_mean = baseline_activity_mean.reshape(number_bands, number_labels)\n",
    "\n",
    "    for run in task_runs:\n",
    "\n",
    "        EDF_FILE = DATA_PATH_RAW+f'{patient}/{patient}{run}.edf'\n",
    "        raw = get_raw(EDF_FILE)\n",
    "\n",
    "        annotations = get_annotations(EDF_FILE)\n",
    "\n",
    "        annotation_dict = get_window_dict(raw, annotations)\n",
    "\n",
    "        for code in ['T1', 'T2']:\n",
    "            for raw_idx, raw in enumerate(annotation_dict[code]):\n",
    "\n",
    "                power = np.array([activity_dict[band][patient][patient+run][code][raw_idx] for band in bands_to_use])\n",
    "\n",
    "                power /= baseline_activity_mean\n",
    "\n",
    "                power_left = power[:, :number_labels//2].mean(axis=1)\n",
    "                power_right = power[:, number_labels//2:].mean(axis=1)\n",
    "\n",
    "                power = np.array((power_left, power_right))\n",
    "\n",
    "                concept_idx = np.unravel_index(power.argmax(), power.shape)\n",
    "\n",
    "                most_active_band_idx = concept_idx[1]\n",
    "                most_active_band = bands_to_use[most_active_band_idx]\n",
    "\n",
    "                hemisphere_idx = concept_idx[0]\n",
    "                hemisphere = hemispheres[hemisphere_idx]\n",
    "\n",
    "                concept = most_active_band + '_' + hemisphere\n",
    "\n",
    "                save_concept(DATA_PATH_CONCEPTS, raw, concept, patient, run, str(raw_idx), NUMBER_CHANNELS=20, NUMBER_SAMPLES=1024)"
   ]
  },
  {
   "cell_type": "code",
   "execution_count": 5,
   "metadata": {},
   "outputs": [
    {
     "ename": "KeyError",
     "evalue": "'T1'",
     "output_type": "error",
     "traceback": [
      "\u001b[0;31m---------------------------------------------------------------------------\u001b[0m",
      "\u001b[0;31mKeyError\u001b[0m                                  Traceback (most recent call last)",
      "Cell \u001b[0;32mIn[5], line 6\u001b[0m\n\u001b[1;32m      3\u001b[0m code \u001b[39m=\u001b[39m \u001b[39m'\u001b[39m\u001b[39mT1\u001b[39m\u001b[39m'\u001b[39m\n\u001b[1;32m      4\u001b[0m raw_idx \u001b[39m=\u001b[39m \u001b[39m0\u001b[39m\n\u001b[0;32m----> 6\u001b[0m power_left \u001b[39m=\u001b[39m np\u001b[39m.\u001b[39marray([activity_dict[band][patient][patient\u001b[39m+\u001b[39mrun][code][raw_idx][:\u001b[39m23\u001b[39m] \u001b[39mfor\u001b[39;00m band \u001b[39min\u001b[39;00m bands_to_use])\n\u001b[1;32m      7\u001b[0m power_right \u001b[39m=\u001b[39m np\u001b[39m.\u001b[39marray([activity_dict[band][patient][patient\u001b[39m+\u001b[39mrun][code][raw_idx][\u001b[39m23\u001b[39m:] \u001b[39mfor\u001b[39;00m band \u001b[39min\u001b[39;00m bands_to_use])\n\u001b[1;32m      9\u001b[0m power_right\u001b[39m.\u001b[39mshape\n",
      "Cell \u001b[0;32mIn[5], line 6\u001b[0m, in \u001b[0;36m<listcomp>\u001b[0;34m(.0)\u001b[0m\n\u001b[1;32m      3\u001b[0m code \u001b[39m=\u001b[39m \u001b[39m'\u001b[39m\u001b[39mT1\u001b[39m\u001b[39m'\u001b[39m\n\u001b[1;32m      4\u001b[0m raw_idx \u001b[39m=\u001b[39m \u001b[39m0\u001b[39m\n\u001b[0;32m----> 6\u001b[0m power_left \u001b[39m=\u001b[39m np\u001b[39m.\u001b[39marray([activity_dict[band][patient][patient\u001b[39m+\u001b[39;49mrun][code][raw_idx][:\u001b[39m23\u001b[39m] \u001b[39mfor\u001b[39;00m band \u001b[39min\u001b[39;00m bands_to_use])\n\u001b[1;32m      7\u001b[0m power_right \u001b[39m=\u001b[39m np\u001b[39m.\u001b[39marray([activity_dict[band][patient][patient\u001b[39m+\u001b[39mrun][code][raw_idx][\u001b[39m23\u001b[39m:] \u001b[39mfor\u001b[39;00m band \u001b[39min\u001b[39;00m bands_to_use])\n\u001b[1;32m      9\u001b[0m power_right\u001b[39m.\u001b[39mshape\n",
      "\u001b[0;31mKeyError\u001b[0m: 'T1'"
     ]
    }
   ],
   "source": [
    "patient = 'S001'\n",
    "run = 'R01'\n",
    "code = 'T1'\n",
    "raw_idx = 0\n",
    "\n",
    "power_left = np.array([activity_dict[band][patient][patient+run][code][raw_idx][:23] for band in bands_to_use])\n",
    "power_right = np.array([activity_dict[band][patient][patient+run][code][raw_idx][23:] for band in bands_to_use])\n",
    "\n",
    "power_right.shape"
   ]
  },
  {
   "cell_type": "code",
   "execution_count": null,
   "metadata": {},
   "outputs": [],
   "source": [
    "activity_dict['Alpha']['S001']['S001R01'].keys()"
   ]
  },
  {
   "cell_type": "code",
   "execution_count": null,
   "metadata": {},
   "outputs": [],
   "source": [
    "power_left[2].mean()"
   ]
  }
 ],
 "metadata": {
  "kernelspec": {
   "display_name": "XAI",
   "language": "python",
   "name": "python3"
  },
  "language_info": {
   "codemirror_mode": {
    "name": "ipython",
    "version": 3
   },
   "file_extension": ".py",
   "mimetype": "text/x-python",
   "name": "python",
   "nbconvert_exporter": "python",
   "pygments_lexer": "ipython3",
   "version": "3.10.9"
  },
  "orig_nbformat": 4
 },
 "nbformat": 4,
 "nbformat_minor": 2
}
