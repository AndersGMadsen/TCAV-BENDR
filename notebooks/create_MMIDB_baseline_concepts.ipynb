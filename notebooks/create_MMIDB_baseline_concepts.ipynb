{
 "cells": [
  {
   "cell_type": "code",
   "execution_count": 1,
   "metadata": {},
   "outputs": [],
   "source": [
    "import numpy as np\n",
    "import matplotlib.pyplot as plt\n",
    "from tqdm import tqdm, trange\n",
    "import mne, re, os\n",
    "import torch\n",
    "import pickle\n",
    "\n",
    "from utils import *"
   ]
  },
  {
   "cell_type": "code",
   "execution_count": 2,
   "metadata": {},
   "outputs": [],
   "source": [
    "SNR = 100.0\n",
    "#PARCELLATION = 'aparc.a2009s'\n",
    "PARCELLATION = 'HCPMMP1_combined'\n",
    "DATA_PATH = '/home/williamtheodor/Documents/DL for EEG Classification/data/'\n",
    "\n",
    "data_dict = load_mmidb_data_dict(DATA_PATH, PARCELLATION, SNR, chop=True)"
   ]
  },
  {
   "cell_type": "code",
   "execution_count": 3,
   "metadata": {},
   "outputs": [],
   "source": [
    "DATA_PATH_RAW = '../../data/eegmmidb (raw)/files/'\n",
    "DATA_PATH_CONCEPTS = '../../data/baseline concepts ' + PARCELLATION +'/'\n",
    "\n",
    "bands = data_dict.keys()\n",
    "patients = [key for key in data_dict['Alpha'].keys() if key not in ['S088', 'S089', 'S092', 'S104', 'S106']]\n",
    "#runs = [key[-3:] for key in data_dict['Alpha'][patients[0]].keys()]\n",
    "runs = ['R01', 'R02']\n",
    "\n",
    "subjects_dir, subject, trans, src_path, bem_path = get_fsaverage()\n",
    "labels = get_labels(subjects_dir, parcellation_name=PARCELLATION)\n",
    "label_names = [label.name for label in np.array(labels).flatten()]\n",
    "\n",
    "bands = ['Delta', 'Theta', 'Alpha', 'Beta', 'Gamma']"
   ]
  },
  {
   "cell_type": "code",
   "execution_count": 4,
   "metadata": {},
   "outputs": [],
   "source": [
    "for label_idx in range(len(label_names)):\n",
    "    for band in bands:\n",
    "    # make directory if it doesn't exist\n",
    "        if not os.path.exists(f'{DATA_PATH_CONCEPTS}{band}_{label_names[label_idx]}'):\n",
    "            os.makedirs(f'{DATA_PATH_CONCEPTS}{band}_{label_names[label_idx]}')"
   ]
  },
  {
   "cell_type": "code",
   "execution_count": 6,
   "metadata": {},
   "outputs": [
    {
     "name": "stderr",
     "output_type": "stream",
     "text": [
      "100%|██████████| 104/104 [00:52<00:00,  2.00it/s]\n"
     ]
    }
   ],
   "source": [
    "NUMNER_PATIENTS = len(patients)\n",
    "NUMBER_RUNS = len(runs)\n",
    "NUMBER_WINDOWS = 15\n",
    "NUMBER_CHANNELS = 20\n",
    "NUMBER_SAMPLES = int(4*256)\n",
    "\n",
    "\n",
    "\n",
    "baseline_run = 'R01' # baseline open eyes\n",
    "\n",
    "X = np.zeros((NUMNER_PATIENTS, NUMBER_RUNS, NUMBER_WINDOWS, NUMBER_CHANNELS, NUMBER_SAMPLES))\n",
    "Y = np.ones((NUMNER_PATIENTS, NUMBER_RUNS, NUMBER_WINDOWS)) * -1\n",
    "\n",
    "for patient in tqdm(patients):\n",
    "    for run in runs:\n",
    "\n",
    "        FILE = DATA_PATH_RAW+f'{patient}/{patient}{run}.edf'\n",
    "\n",
    "        raw = get_raw(FILE)\n",
    "\n",
    "        raw_chops = get_raw_chops(raw)\n",
    "\n",
    "        baseline_activity = np.array([data_dict[band][patient][patient+baseline_run]['T0'] for band in bands])\n",
    "\n",
    "        for chop_idx, raw_chop in enumerate(raw_chops):\n",
    "            raw_chop = pick_and_rename_MMIDB_channels(raw_chop)  \n",
    "\n",
    "            activity = np.array([data_dict[band][patient][patient+run]['T0'][chop_idx] for band in bands])\n",
    "\n",
    "            try:\n",
    "                activity -= baseline_activity[:, chop_idx]\n",
    "            except:\n",
    "                break\n",
    "\n",
    "            most_active_band_idx = np.argmax(activity.mean(axis=1))\n",
    "            most_active_band = bands[most_active_band_idx]\n",
    "\n",
    "            brain_region_idx = activity[most_active_band_idx].argmax()\n",
    "            brain_region = label_names[brain_region_idx]\n",
    "\n",
    "            concept = most_active_band + '_' + brain_region\n",
    "\n",
    "            #Y_temp_encoded = le.transform(Y_temp)  \n",
    "            #print(DATA_PATH_CONCEPTS + label_names[concept_idx] + '/' + patient + run + '_' + label_names[concept_idx] + '.pkl')         \n",
    "\n",
    "            try: \n",
    "                x = np.zeros((1, NUMBER_CHANNELS, NUMBER_SAMPLES))\n",
    "                x[:,:19,:] = raw_chop.copy().get_data()[:,:NUMBER_SAMPLES].reshape(1,NUMBER_CHANNELS-1,NUMBER_SAMPLES)\n",
    "                x[:,19,:] = np.ones((1, NUMBER_SAMPLES)) * -1  \n",
    "                x = torch.from_numpy(x).float()\n",
    "                \n",
    "                picklePath = DATA_PATH_CONCEPTS + concept + '/' + patient + run + '_' + concept + '.pkl'\n",
    "                with open(picklePath, 'wb') as handle:\n",
    "                    pickle.dump(x, handle, protocol=pickle.HIGHEST_PROTOCOL)\n",
    "            except:\n",
    "                print('Error with file: ' + FILE,x.shape)"
   ]
  },
  {
   "cell_type": "code",
   "execution_count": null,
   "metadata": {},
   "outputs": [],
   "source": []
  }
 ],
 "metadata": {
  "kernelspec": {
   "display_name": "XAI",
   "language": "python",
   "name": "python3"
  },
  "language_info": {
   "codemirror_mode": {
    "name": "ipython",
    "version": 3
   },
   "file_extension": ".py",
   "mimetype": "text/x-python",
   "name": "python",
   "nbconvert_exporter": "python",
   "pygments_lexer": "ipython3",
   "version": "3.10.9"
  },
  "orig_nbformat": 4
 },
 "nbformat": 4,
 "nbformat_minor": 2
}
