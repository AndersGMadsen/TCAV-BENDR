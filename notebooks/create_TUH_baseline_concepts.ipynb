{
 "cells": [
  {
   "cell_type": "code",
   "execution_count": 1,
   "metadata": {},
   "outputs": [],
   "source": [
    "import numpy as np\n",
    "import matplotlib.pyplot as plt\n",
    "from tqdm import tqdm, trange\n",
    "import mne, re, os, pickle\n",
    "import torch\n",
    "\n",
    "from utils import *"
   ]
  },
  {
   "cell_type": "code",
   "execution_count": 2,
   "metadata": {},
   "outputs": [],
   "source": [
    "def fix_average_naming(raw):\n",
    "    # is the average naming a problem?\n",
    "    reSTR = r\"(?<=EEG )(.*)(?=-)\"\n",
    "    reLowC = ['FP1', 'FP2', 'FZ', 'CZ', 'PZ']\n",
    "\n",
    "    for channel_name in raw.ch_names:\n",
    "        if re.search(reSTR, channel_name) and re.search(reSTR, channel_name).group() in reLowC:\n",
    "            lowC = channel_name[0:5]+channel_name[5].lower()+channel_name[6:]\n",
    "            mne.channels.rename_channels(raw.info, {channel_name: re.findall(reSTR, lowC)[0]})\n",
    "        elif channel_name == \"PHOTIC-REF\":\n",
    "            mne.channels.rename_channels(raw.info, {channel_name: \"PHOTIC\"})\n",
    "        elif re.search(reSTR, channel_name):\n",
    "            mne.channels.rename_channels(raw.info, {channel_name: re.findall(reSTR, channel_name)[0]})\n",
    "\n",
    "    return raw\n",
    "\n",
    "def pick_and_rename_TUH_channels(raw):\n",
    "    raw = raw.copy()\n",
    "\n",
    "    raw = fix_average_naming(raw)\n",
    "\n",
    "    try:\n",
    "        mne.channels.rename_channels(raw.info, {'Fp1': 'FP1', 'Fp2': 'FP2', 'Fz': 'FZ', 'Cz': 'CZ', 'Pz': 'PZ'})\n",
    "        mne.channels.rename_channels(raw.info, {'T3': 'T7', 'T4': 'T8'})\n",
    "    except:\n",
    "        pass\n",
    "\n",
    "    EEG_20_div = [\n",
    "                'FP1', 'FP2',\n",
    "        'F7', 'F3', 'FZ', 'F4', 'F8',\n",
    "        'T7', 'C3', 'CZ', 'C4', 'T8',\n",
    "        'T5', 'P3', 'PZ', 'P4', 'T6',\n",
    "                 'O1', 'O2'\n",
    "    ]\n",
    "    \n",
    "    raw.pick_channels(ch_names=EEG_20_div)\n",
    "    raw.reorder_channels(EEG_20_div)\n",
    "\n",
    "    return raw\n",
    "\n",
    "def get_TUH_raw(FILE, high_pass=0.5, low_pass=70, SAMPLNIG_FREQ=256):\n",
    "    raw = mne.io.read_raw_edf(FILE, verbose=False, preload=True)\n",
    "    raw = pick_and_rename_TUH_channels(raw)\n",
    "\n",
    "    mne.datasets.eegbci.standardize(raw)  # Set channel names\n",
    "    montage = mne.channels.make_standard_montage('standard_1020')\n",
    "    raw = raw.set_eeg_reference(ref_channels='average', projection=True, verbose=False)\n",
    "    raw = raw.set_montage(montage)\n",
    "\n",
    "    raw = raw.resample(SAMPLNIG_FREQ)\n",
    "    raw.filter(high_pass, low_pass, verbose=False)\n",
    "\n",
    "    return raw\n",
    "\n",
    "def get_TUH_annotation(raw, WINDOW_LENGTH=4, SAMPLNIG_FREQ=256):\n",
    "    new_onset = []\n",
    "    new_duration = []\n",
    "    new_description = []\n",
    "\n",
    "    number_windows = int(raw.get_data().shape[1] / SAMPLNIG_FREQ / WINDOW_LENGTH)\n",
    "\n",
    "    for window_idx in range(number_windows):\n",
    "        new_onset.append(window_idx * WINDOW_LENGTH)\n",
    "        new_duration.append(WINDOW_LENGTH)\n",
    "        new_description.append(f'chop {window_idx}')\n",
    "\n",
    "    new_onset = np.array(new_onset, dtype=np.float64)\n",
    "    new_duration = np.array(new_duration, dtype=np.float64)\n",
    "\n",
    "    annotations = mne.Annotations(onset=new_onset, duration=new_duration, description=new_description)\n",
    "\n",
    "    return annotations"
   ]
  },
  {
   "cell_type": "code",
   "execution_count": 3,
   "metadata": {},
   "outputs": [],
   "source": [
    "def process_raw(raw, fwd, bands, SNR=100):\n",
    "    \n",
    "    annotations = get_TUH_annotation(raw)\n",
    "\n",
    "    raw_bands = [raw.copy().filter(bands[b][0], bands[b][1], verbose=False) for b in bands.keys()]\n",
    "\n",
    "    covs = [get_cov(raw_band) for raw_band in raw_bands]\n",
    "    inverse_operators = [make_fast_inverse_operator(raw_band.info, fwd, cov, snr=SNR) for raw_band, cov in zip(raw_bands, covs)]\n",
    "\n",
    "    window_dict_full = get_window_dict(raw, annotations)\n",
    "    window_dict_bands = [get_window_dict(raw_band, annotations) for raw_band in raw_bands]\n",
    "\n",
    "    return window_dict_full, window_dict_bands, inverse_operators"
   ]
  },
  {
   "cell_type": "code",
   "execution_count": 4,
   "metadata": {},
   "outputs": [],
   "source": [
    "def get_TUH_activity(window_dict_bands, inverse_operators, bands, labels, label_names):\n",
    "\n",
    "    activities = np.zeros((len(window_dict_bands[0].keys()), len(list(bands.keys())), len(label_names)))\n",
    "\n",
    "    for windows_idx, window_key in tqdm(enumerate(window_dict_bands[0].keys()), total=len(window_dict_bands[0].keys())):\n",
    "\n",
    "        raw_bands = [window_dict_bands[band_idx][window_key][0] for band_idx in range(len(bands.keys()))]\n",
    "        for band_idx, band_key in enumerate(bands.keys()):\n",
    "            raw_temp = window_dict_bands[band_idx][window_key][0]\n",
    "\n",
    "            stc = inverse_operators[band_idx](raw_temp)\n",
    "            activities[windows_idx, band_idx] = np.concatenate(get_power_per_label(stc, labels, standardize=False)).reshape(1, -1)\n",
    "        \n",
    "    return activities\n",
    "\n",
    "def save_TUH_concepts(window_dict_full, activities, FILE, DATA_PATH_CONCEPTS, bands, label_names, NUMBER_CHANNELS=20, NUMBER_SAMPLES=1024):\n",
    "    baseline_activity = np.mean(activities, axis=0)\n",
    "\n",
    "    for window_idx, window_key in enumerate(window_dict_full.keys()):\n",
    "       \n",
    "        activity = activities[window_idx]\n",
    "        activity -= baseline_activity\n",
    "\n",
    "        most_active_band_idx = np.argmax(activity.mean(axis=1))\n",
    "        most_active_band = list(bands.keys())[most_active_band_idx]\n",
    "\n",
    "        brain_region_idx = activity[most_active_band_idx].argmax()\n",
    "        brain_region = label_names[brain_region_idx]\n",
    "\n",
    "        concept = most_active_band + '_' + brain_region        \n",
    "\n",
    "        x = np.zeros((1, NUMBER_CHANNELS, NUMBER_SAMPLES))\n",
    "        x[:,:19,:] = window_dict_full[window_key].copy()[0].get_data()[:,:NUMBER_SAMPLES].reshape(1,NUMBER_CHANNELS-1,NUMBER_SAMPLES)\n",
    "        x[:,19,:] = np.ones((1, NUMBER_SAMPLES)) * -1  \n",
    "        x = torch.from_numpy(x).float()\n",
    "        \n",
    "        picklePath = DATA_PATH_CONCEPTS + concept + '/' + FILE[:-4] + '_' + str(window_idx) + '_' + concept + '.pkl'\n",
    "        with open(picklePath, 'wb') as handle:\n",
    "            pickle.dump(x, handle, protocol=pickle.HIGHEST_PROTOCOL)"
   ]
  },
  {
   "cell_type": "code",
   "execution_count": 5,
   "metadata": {},
   "outputs": [],
   "source": [
    "DATA_PATH_CONCEPTS = '../../data/baseline concepts TUH/'\n",
    "\n",
    "DATA_PATH_TUH = '/home/williamtheodor/Documents/DL for EEG Classification/data/TUH (raw)/'\n",
    "\n",
    "RANDOM_FILE = 'aaaaavrx_s004_t000.edf'\n",
    "RANDOM_FILE_PATH = DATA_PATH_TUH + RANDOM_FILE\n",
    "\n",
    "subjects_dir, subject, trans, src_path, bem_path = get_fsaverage()\n",
    "\n",
    "raw = get_TUH_raw(RANDOM_FILE_PATH)\n",
    "fwd = get_fwd(raw.info, trans, src_path, bem_path)\n",
    "\n",
    "#PARCELLATION = 'aparc.a2009s'\n",
    "PARCELLATION = 'HCPMMP1_combined'"
   ]
  },
  {
   "cell_type": "code",
   "execution_count": 6,
   "metadata": {},
   "outputs": [],
   "source": [
    "bands = {\n",
    "    'Delta': (0.5, 4),\n",
    "    'Theta': (4, 8),\n",
    "    'Alpha': (8, 12),\n",
    "    'Beta': (12, 30),\n",
    "    'Gamma': (30, 70)\n",
    "}\n",
    "\n",
    "src = get_src(src_path)\n",
    "\n",
    "labels = get_labels(subjects_dir, parcellation_name = 'HCPMMP1_combined')\n",
    "label_names = [label.name for label in np.array(labels).flatten()]"
   ]
  },
  {
   "cell_type": "code",
   "execution_count": 7,
   "metadata": {},
   "outputs": [],
   "source": [
    "for label_idx in range(len(label_names)):\n",
    "    for band in bands:\n",
    "    # make directory if it doesn't exist\n",
    "        if not os.path.exists(f'{DATA_PATH_CONCEPTS}{band}_{label_names[label_idx]}'):\n",
    "            os.makedirs(f'{DATA_PATH_CONCEPTS}{band}_{label_names[label_idx]}')"
   ]
  },
  {
   "cell_type": "code",
   "execution_count": 8,
   "metadata": {},
   "outputs": [
    {
     "name": "stdout",
     "output_type": "stream",
     "text": [
      "/home/williamtheodor/Documents/DL for EEG Classification/data/TUH (raw)/aaaaanjj_s006_t005.edf\n"
     ]
    },
    {
     "name": "stderr",
     "output_type": "stream",
     "text": [
      "100%|██████████| 150/150 [06:18<00:00,  2.52s/it]\n"
     ]
    },
    {
     "name": "stdout",
     "output_type": "stream",
     "text": [
      "/home/williamtheodor/Documents/DL for EEG Classification/data/TUH (raw)/aaaaanke_s001_t000.edf\n"
     ]
    },
    {
     "name": "stderr",
     "output_type": "stream",
     "text": [
      "100%|██████████| 141/141 [05:45<00:00,  2.45s/it]\n"
     ]
    },
    {
     "name": "stdout",
     "output_type": "stream",
     "text": [
      "/home/williamtheodor/Documents/DL for EEG Classification/data/TUH (raw)/aaaaanyo_s001_t000.edf\n"
     ]
    },
    {
     "name": "stderr",
     "output_type": "stream",
     "text": [
      "100%|██████████| 17/17 [00:40<00:00,  2.41s/it]\n"
     ]
    },
    {
     "name": "stdout",
     "output_type": "stream",
     "text": [
      "/home/williamtheodor/Documents/DL for EEG Classification/data/TUH (raw)/aaaaanze_s001_t003.edf\n"
     ]
    },
    {
     "name": "stderr",
     "output_type": "stream",
     "text": [
      "100%|██████████| 152/152 [06:21<00:00,  2.51s/it]\n"
     ]
    },
    {
     "name": "stdout",
     "output_type": "stream",
     "text": [
      "/home/williamtheodor/Documents/DL for EEG Classification/data/TUH (raw)/aaaaanzr_s002_t003.edf\n"
     ]
    },
    {
     "name": "stderr",
     "output_type": "stream",
     "text": [
      " 16%|█▌        | 24/150 [00:59<05:26,  2.59s/it]"
     ]
    }
   ],
   "source": [
    "for FILE in sorted(os.listdir(DATA_PATH_TUH)):\n",
    "    print(FILE)\n",
    "    FILE_PATH = DATA_PATH_TUH + FILE\n",
    "    \n",
    "\n",
    "    raw_full = get_TUH_raw(FILE_PATH)\n",
    "    window_dict_full, window_dict_bands, inverse_operators = process_raw(raw_full, fwd, bands, SNR=100)\n",
    "\n",
    "    activities = get_TUH_activity(window_dict_bands, inverse_operators, bands, labels, label_names)\n",
    "\n",
    "    save_TUH_concepts(window_dict_full, activities, FILE, DATA_PATH_CONCEPTS, bands, label_names)"
   ]
  }
 ],
 "metadata": {
  "kernelspec": {
   "display_name": "XAI",
   "language": "python",
   "name": "python3"
  },
  "language_info": {
   "codemirror_mode": {
    "name": "ipython",
    "version": 3
   },
   "file_extension": ".py",
   "mimetype": "text/x-python",
   "name": "python",
   "nbconvert_exporter": "python",
   "pygments_lexer": "ipython3",
   "version": "3.10.9"
  },
  "orig_nbformat": 4
 },
 "nbformat": 4,
 "nbformat_minor": 2
}
