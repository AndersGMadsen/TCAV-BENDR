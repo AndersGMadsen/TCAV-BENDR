{
 "cells": [
  {
   "cell_type": "code",
   "execution_count": 1,
   "metadata": {},
   "outputs": [],
   "source": [
    "import os, sys, pickle, random\n",
    "import numpy as np\n",
    "import matplotlib.pyplot as plt\n",
    "from matplotlib import animation\n",
    "import matplotlib.cm as cm\n",
    "from tqdm import tqdm\n",
    "from pathlib import Path\n",
    "import mne\n",
    "if os.getcwd().split(\"/\")[-1] != 'BENDR-XAI': os.chdir(\"../\")\n",
    "from notebooks.utils import *"
   ]
  },
  {
   "cell_type": "code",
   "execution_count": 10,
   "metadata": {},
   "outputs": [],
   "source": [
    "# Read files on each each line in tuh_final_selected.txt\n",
    "selected = []\n",
    "with open('data_process/tuh_final_selected.txt' , 'r') as f:\n",
    "    selected.append(f.read().split('/')[-1].strip())"
   ]
  },
  {
   "cell_type": "code",
   "execution_count": 14,
   "metadata": {},
   "outputs": [],
   "source": [
    "# Delete files in data/tuh_eeg_clean that are not in selected\n",
    "\n",
    "for file in os.listdir('data/tuh_eeg_clean/'):\n",
    "    if file not in selected:\n",
    "        os.remove('data/tuh_eeg_clean/' + file)"
   ]
  },
  {
   "cell_type": "code",
   "execution_count": 2,
   "metadata": {},
   "outputs": [],
   "source": [
    "edf_dir = Path(\"/scratch/s194260/tuh_eeg\")\n",
    "edf_files = [edf_dir / file for file in os.listdir(edf_dir)]"
   ]
  },
  {
   "cell_type": "code",
   "execution_count": 3,
   "metadata": {},
   "outputs": [],
   "source": [
    "subjects_dir, subject, trans, src_path, bem_path = get_fsaverage()\n",
    "info = read_TUH_edf(edf_files[0]).info"
   ]
  },
  {
   "cell_type": "code",
   "execution_count": 13,
   "metadata": {},
   "outputs": [
    {
     "name": "stderr",
     "output_type": "stream",
     "text": [
      "100%|██████████| 200/200 [01:30<00:00,  2.22it/s]\n"
     ]
    }
   ],
   "source": [
    "for file in tqdm(edf_files):\n",
    "    info = read_TUH_edf(file).info\n",
    "    if not all([np.all(~np.isnan(ch['loc'][:3])) for ch in info['chs']]):\n",
    "        print(file)\n",
    "        break"
   ]
  },
  {
   "cell_type": "code",
   "execution_count": 10,
   "metadata": {},
   "outputs": [
    {
     "data": {
      "text/plain": [
       "(19, 1024)"
      ]
     },
     "execution_count": 10,
     "metadata": {},
     "output_type": "execute_result"
    }
   ],
   "source": [
    "# We use T3 and T4 instead of T7 and T8\n",
    "channels_order = ['Fp1', 'Fp2', 'F7', 'F3', 'Fz', 'F4', 'F8', 'T3', 'C3', 'Cz', 'C4', 'T4', 'T5', 'P3', 'Pz', 'P4', 'T6', 'O1', 'O2']\n",
    "\n",
    "data = np.load(\"data/HCPMMP1_combined_8.0_12.0_220503_280423.npy\", allow_pickle=True).item()\n",
    "\n",
    "minimum = -0.00125\n",
    "maximum = 0.00125\n",
    "\n",
    "for edf_file, result_dict in tqdm(data.items(), total=len(data)):\n",
    "    raw = read_TUH_edf(f\"/scratch/s194260/tuh_eeg/{edf_file}\", low_pass=None)\n",
    "    try:\n",
    "        raw = raw.reorder_channels(channels_order)\n",
    "    except ValueError:\n",
    "        continue\n",
    "    \n",
    "    for anno in result_dict['annotations']['T0']:\n",
    "        window = get_window(raw, anno).get_data()\n",
    "        window = (window - minimum) / (maximum - minimum) * 2 - 1\n",
    "\n",
    "    #for anno in tqdm(result_dict['annotations']['T0']):\n",
    "    #    window = get_window(raw, anno).get_data()\n",
    "    #    minimum = np.minimum(window.min(axis=1), minimum)\n",
    "    #    maximum = np.maximum(window.max(axis=1), maximum)\n",
    "        \n",
    "#minimum = minimum.reshape(-1, 1)\n",
    "#maximum = maximum.reshape(-1, 1)"
   ]
  },
  {
   "cell_type": "code",
   "execution_count": 5,
   "metadata": {},
   "outputs": [],
   "source": [
    "# Read the files on each line in /home/s194260/BENDR-XAI/tuh_selected5.txt\n",
    "files = []\n",
    "with open('tuh_selected5.txt', 'r') as f:\n",
    "    for line in f:\n",
    "        files.append(line.strip())"
   ]
  },
  {
   "cell_type": "code",
   "execution_count": 6,
   "metadata": {},
   "outputs": [],
   "source": [
    "import os\n",
    "from tqdm import tqdm"
   ]
  },
  {
   "cell_type": "code",
   "execution_count": 7,
   "metadata": {},
   "outputs": [
    {
     "name": "stderr",
     "output_type": "stream",
     "text": [
      "  2%|▏         | 167/8518 [00:35<23:50,  5.84it/s]  "
     ]
    }
   ],
   "source": [
    "# Copy each file in files to /scratch/s194260/tuh_eeg\n",
    "for file in tqdm(files):\n",
    "    os.system(f\"cp {file} /scratch/s194260/tuh_eeg\")"
   ]
  },
  {
   "cell_type": "code",
   "execution_count": null,
   "metadata": {},
   "outputs": [],
   "source": []
  },
  {
   "cell_type": "code",
   "execution_count": 2,
   "metadata": {},
   "outputs": [],
   "source": [
    "# Make a list of path to all edf files in the subfolders of /nobackup/tsal-tmp/tuh_eeg\n",
    "# files = []\n",
    "\n",
    "# with tqdm() as pbar:\n",
    "#     for root, dirs, file in os.walk(\"/nobackup/tsal-tmp/tuh_eeg\"):\n",
    "#         for name in file:\n",
    "#             if name.endswith(\".edf\"):\n",
    "#                 files.append(os.path.join(root, name))\n",
    "#                 pbar.update(1)\n",
    "\n",
    "# Save list of files as pickle\n",
    "# import pickle\n",
    "# with open('tuh_files.pkl', 'wb') as f:\n",
    "#     pickle.dump(files, f)\n",
    "    \n",
    "# Load list of files from pickle\n",
    "# import pickle\n",
    "# with open('tuh_files.pkl', 'rb') as f:\n",
    "#     files = pickle.load(f)\n",
    "    \n",
    "# random.shuffle(files)"
   ]
  },
  {
   "cell_type": "code",
   "execution_count": 3,
   "metadata": {},
   "outputs": [],
   "source": [
    "# import pickle\n",
    "# with open('tuh_files.pkl', 'rb') as f:\n",
    "#     files = pickle.load(f)\n",
    "\n",
    "# Copy all files in tuh_final_selected.txt to data/tuh_eeg/\n",
    "# with open('tuh_final_selected.txt', 'r') as f:\n",
    "#     selected = f.read().splitlines()\n",
    "\n",
    "# selected = [file.split(\"/\")[-1] for file in selected]\n",
    "\n",
    "# Delete all files in /scratch/s194260/tuh_eeg/ that are not in selected\n",
    "# for file in os.listdir('/scratch/s194260/tuh_eeg/'):\n",
    "#     if file not in selected:\n",
    "#         os.remove('/scratch/s194260/tuh_eeg/' + file)"
   ]
  }
 ],
 "metadata": {
  "kernelspec": {
   "display_name": "Python 3",
   "language": "python",
   "name": "python3"
  },
  "language_info": {
   "codemirror_mode": {
    "name": "ipython",
    "version": 3
   },
   "file_extension": ".py",
   "mimetype": "text/x-python",
   "name": "python",
   "nbconvert_exporter": "python",
   "pygments_lexer": "ipython3",
   "version": "3.10.10"
  },
  "orig_nbformat": 4
 },
 "nbformat": 4,
 "nbformat_minor": 2
}
