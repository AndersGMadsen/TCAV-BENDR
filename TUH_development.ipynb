{
 "cells": [
  {
   "cell_type": "code",
   "execution_count": 6,
   "metadata": {},
   "outputs": [],
   "source": [
    "import os\n",
    "if os.getcwd().split(\"/\")[-1] != 'BENDR-XAI': os.chdir(\"../\")\n",
    "\n",
    "import mne\n",
    "import numpy as np\n",
    "import matplotlib.pyplot as plt\n",
    "\n",
    "from matplotlib import animation\n",
    "import random\n",
    "import matplotlib.cm as cm\n",
    "import sys\n",
    "from tqdm import tqdm"
   ]
  },
  {
   "cell_type": "code",
   "execution_count": 7,
   "metadata": {},
   "outputs": [],
   "source": [
    "# Make a list of path to all edf files in the subfolders of /nobackup/tsal-tmp/tuh_eeg\n",
    "# files = []\n",
    "\n",
    "# with tqdm() as pbar:\n",
    "#     for root, dirs, file in os.walk(\"/nobackup/tsal-tmp/tuh_eeg\"):\n",
    "#         for name in file:\n",
    "#             if name.endswith(\".edf\"):\n",
    "#                 files.append(os.path.join(root, name))\n",
    "#                 pbar.update(1)\n",
    "\n",
    "# Save list of files as pickle\n",
    "# import pickle\n",
    "# with open('tuh_files.pkl', 'wb') as f:\n",
    "#     pickle.dump(files, f)\n",
    "    \n",
    "# Load list of files from pickle\n",
    "# import pickle\n",
    "# with open('tuh_files.pkl', 'rb') as f:\n",
    "#     files = pickle.load(f)\n",
    "    \n",
    "# random.shuffle(files)"
   ]
  },
  {
   "cell_type": "code",
   "execution_count": 8,
   "metadata": {},
   "outputs": [],
   "source": [
    "selected = []\n",
    "with open('tuh_final_selected.txt', 'r') as f:\n",
    "    selected.extend(f.read().splitlines())\n",
    "\n",
    "deselected = []\n",
    "with open('tuh_final_deselected.txt', 'r') as f:\n",
    "    deselected.extend(f.read().splitlines())\n",
    "\n",
    "# Open all the files tuh_selected*.txt, read the filesnames on each line and save them in one list\n",
    "files = []\n",
    "# for file in os.listdir():\n",
    "#     if file.startswith(\"tuh_selected\"):\n",
    "#         with open(file, 'r') as f:\n",
    "#             files_selected.extend(f.read().splitlines())\n",
    "files = ['data/tuh_eeg/' + file for file in os.listdir('data/tuh_eeg/')]\n",
    "files = [file for file in files if file not in selected and file not in deselected]"
   ]
  },
  {
   "cell_type": "code",
   "execution_count": 9,
   "metadata": {},
   "outputs": [],
   "source": [
    "# Delete all files in data/tuh_eeg/ that are not in selected\n",
    "for file in os.listdir('data/tuh_eeg/'):\n",
    "    if file not in selected and file not in deselected:\n",
    "        os.remove('data/tuh_eeg/' + file)"
   ]
  },
  {
   "cell_type": "code",
   "execution_count": 5,
   "metadata": {},
   "outputs": [
    {
     "name": "stdout",
     "output_type": "stream",
     "text": [
      "Using matplotlib backend: <object object at 0x7f84ac0d8360>\n",
      "Channels marked as bad:\n",
      "none\n",
      "Channels marked as bad:\n",
      "none\n",
      "Channels marked as bad:\n",
      "none\n",
      "Channels marked as bad:\n",
      "none\n"
     ]
    }
   ],
   "source": [
    "%matplotlib auto\n",
    "import mne\n",
    "import matplotlib.pyplot as plt\n",
    "\n",
    "# Read all files in tuh_final_selected.txt\n",
    "\n",
    "# Function to handle user input\n",
    "def on_key(event):\n",
    "    if event.key == 'y':\n",
    "        with open('tuh_final_selected.txt', 'a') as f:\n",
    "            f.write(current_file + '\\n')\n",
    "        \n",
    "        plt.close()\n",
    "    elif event.key == 'n':\n",
    "        with open('tuh_final_deselected.txt', 'a') as f:\n",
    "            f.write(current_file + '\\n')\n",
    "        \n",
    "        plt.close()\n",
    "\n",
    "# Iterate through the EDF files\n",
    "for file_path in files:\n",
    "    \n",
    "    if file_path in selected or file_path in deselected:\n",
    "        continue   \n",
    "    \n",
    "    # Load the EDF file using MNE\n",
    "    raw = mne.io.read_raw_edf(file_path, preload=True, verbose=False)\n",
    "    raw.resample(256, verbose=False)\n",
    "    raw.filter(1, 70, fir_design='firwin', verbose=False)\n",
    "    raw.notch_filter(60, fir_design='firwin', verbose=False)\n",
    "    \n",
    "    # Plot the data\n",
    "    fig = raw.plot(show=False, verbose=False, scalings='auto')\n",
    "    current_file = file_path\n",
    "    plt.title(f'File: {file_path}\\nPress \"y\" to save or any other key to skip')\n",
    "    \n",
    "    # Register the event handler and show the plot\n",
    "    cid = fig.canvas.mpl_connect('key_press_event', on_key)\n",
    "    plt.show()"
   ]
  },
  {
   "cell_type": "code",
   "execution_count": null,
   "metadata": {},
   "outputs": [],
   "source": []
  }
 ],
 "metadata": {
  "kernelspec": {
   "display_name": "Python 3",
   "language": "python",
   "name": "python3"
  },
  "language_info": {
   "codemirror_mode": {
    "name": "ipython",
    "version": 3
   },
   "file_extension": ".py",
   "mimetype": "text/x-python",
   "name": "python",
   "nbconvert_exporter": "python",
   "pygments_lexer": "ipython3",
   "version": "3.10.10"
  },
  "orig_nbformat": 4
 },
 "nbformat": 4,
 "nbformat_minor": 2
}
