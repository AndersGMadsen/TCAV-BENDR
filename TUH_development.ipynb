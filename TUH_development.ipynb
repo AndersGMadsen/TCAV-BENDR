{
 "cells": [
  {
   "cell_type": "code",
   "execution_count": 1,
   "metadata": {},
   "outputs": [],
   "source": [
    "import os, sys, pickle, random\n",
    "import numpy as np\n",
    "import matplotlib.pyplot as plt\n",
    "from matplotlib import animation\n",
    "import matplotlib.cm as cm\n",
    "from tqdm import tqdm\n",
    "from pathlib import Path\n",
    "import mne\n",
    "if os.getcwd().split(\"/\")[-1] != 'BENDR-XAI': os.chdir(\"../\")\n",
    "from notebooks.utils import *"
   ]
  },
  {
   "cell_type": "code",
   "execution_count": 2,
   "metadata": {},
   "outputs": [],
   "source": [
    "data = np.load(\"data/HCPMMP1_combined_8.0_12.0_220503_280423.npy\", allow_pickle=True).item()"
   ]
  },
  {
   "cell_type": "code",
   "execution_count": 3,
   "metadata": {},
   "outputs": [],
   "source": [
    "count = 0\n",
    "for name in data.keys():\n",
    "    count += len(data[name]['annotations']['T0'])"
   ]
  },
  {
   "cell_type": "code",
   "execution_count": 4,
   "metadata": {},
   "outputs": [
    {
     "data": {
      "text/plain": [
       "150.79054054054055"
      ]
     },
     "execution_count": 4,
     "metadata": {},
     "output_type": "execute_result"
    }
   ],
   "source": [
    "count / 148"
   ]
  },
  {
   "cell_type": "code",
   "execution_count": null,
   "metadata": {},
   "outputs": [],
   "source": []
  },
  {
   "cell_type": "code",
   "execution_count": 31,
   "metadata": {},
   "outputs": [],
   "source": [
    "channels_order = ['Fp1', 'Fp2', 'F7', 'F3', 'Fz', 'F4', 'F8', 'T7', 'C3', 'Cz', 'C4', 'T8', 'T5', 'P3', 'Pz', 'P4', 'T6', 'O1', 'O2']\n",
    "raw = read_TUH_edf(\"/scratch/s194260/tuh_eeg/aaaaaado_s004_t002.edf\")"
   ]
  },
  {
   "cell_type": "code",
   "execution_count": 40,
   "metadata": {},
   "outputs": [],
   "source": [
    " channel_map = {\n",
    "        'EEG C3-REF': 'C3', 'EEG P4-REF': 'P4', 'EEG T5-REF': 'P7', 'EEG F8-REF': 'F8', 'EEG F7-REF': 'F7',\n",
    "        'EEG C4-REF': 'C4', 'EEG PZ-REF': 'Pz', 'EEG FP2-REF': 'Fp2', 'EEG F4-REF': 'F4', 'EEG F3-REF': 'F3',\n",
    "        'EEG T6-REF': 'P8', 'EEG CZ-REF': 'Cz', 'EEG O2-REF': 'O2', 'EEG O1-REF': 'O1', 'EEG T2-REF': 'FT8',\n",
    "        'EEG T1-REF': 'FT7', 'EEG T4-REF': 'T8', 'EEG P3-REF': 'P3', 'EEG FZ-REF': 'Fz', 'EEG T3-REF': 'T7',\n",
    "        'EEG FP1-REF': 'Fp1', 'EEG C4-LE': 'C4', 'EEG P3-LE': 'P3', 'EEG FZ-LE': 'Fz', 'EEG F3-LE': 'F3',\n",
    "        'EEG FP1-LE': 'Fp1', 'EEG T6-LE': 'P8', 'EEG CZ-LE': 'Cz', 'EEG F8-LE': 'F8', 'EEG O1-LE': 'O1',\n",
    "        'EEG PZ-LE': 'Pz', 'EEG C3-LE': 'C3', 'EEG FP2-LE': 'Fp2', 'EEG O2-LE': 'O2', 'EEG FP1-LE': 'Fp1',\n",
    "        'EEG F7-LE': 'F7', 'EEG T1-LE': 'FT7', 'EEG T2-LE': 'FT8', 'EEG P4-LE': 'P4', 'EEG T4-LE': 'T8',\n",
    "    }\n",
    "\n",
    "# Filter the channel_map to include only the channels present in the raw data\n",
    "channel_map_sub = {k: v for k, v in channel_map.items() if k in raw.ch_names}\n",
    "\n",
    "# Standardize the raw data\n",
    "mne.datasets.eegbci.standardize(raw)\n",
    "\n",
    "# Rename the channels using the filtered channel_map\n",
    "raw = raw.rename_channels(channel_map_sub)"
   ]
  },
  {
   "cell_type": "code",
   "execution_count": 33,
   "metadata": {},
   "outputs": [],
   "source": [
    "subjects_dir, subject, trans, src_path, bem_path = get_fsaverage()"
   ]
  },
  {
   "cell_type": "code",
   "execution_count": 34,
   "metadata": {},
   "outputs": [],
   "source": [
    "fwd = get_fwd(raw.info, trans, src_path, bem_path)"
   ]
  },
  {
   "cell_type": "code",
   "execution_count": 38,
   "metadata": {},
   "outputs": [],
   "source": [
    "montage = mne.channels.make_standard_montage('standard_1020')\n",
    "\n",
    "    # Set the montage for the raw data, ignoring missing channels\n",
    "raw = raw.set_montage(montage)"
   ]
  },
  {
   "cell_type": "code",
   "execution_count": 23,
   "metadata": {},
   "outputs": [
    {
     "ename": "ValueError",
     "evalue": "'T5' is not in list",
     "output_type": "error",
     "traceback": [
      "\u001b[0;31m---------------------------------------------------------------------------\u001b[0m",
      "\u001b[0;31mValueError\u001b[0m                                Traceback (most recent call last)",
      "Cell \u001b[0;32mIn[23], line 1\u001b[0m\n\u001b[0;32m----> 1\u001b[0m raw \u001b[39m=\u001b[39m raw\u001b[39m.\u001b[39;49mreorder_channels(channels_order)\n",
      "File \u001b[0;32m~/.conda/envs/BENDR-XAI/lib/python3.10/site-packages/mne/channels/channels.py:736\u001b[0m, in \u001b[0;36mUpdateChannelsMixin.reorder_channels\u001b[0;34m(self, ch_names)\u001b[0m\n\u001b[1;32m    734\u001b[0m idx \u001b[39m=\u001b[39m \u001b[39mlist\u001b[39m()\n\u001b[1;32m    735\u001b[0m \u001b[39mfor\u001b[39;00m ch_name \u001b[39min\u001b[39;00m ch_names:\n\u001b[0;32m--> 736\u001b[0m     ii \u001b[39m=\u001b[39m \u001b[39mself\u001b[39;49m\u001b[39m.\u001b[39;49mch_names\u001b[39m.\u001b[39;49mindex(ch_name)\n\u001b[1;32m    737\u001b[0m     \u001b[39mif\u001b[39;00m ii \u001b[39min\u001b[39;00m idx:\n\u001b[1;32m    738\u001b[0m         \u001b[39mraise\u001b[39;00m \u001b[39mValueError\u001b[39;00m(\u001b[39m'\u001b[39m\u001b[39mChannel name repeated: \u001b[39m\u001b[39m%s\u001b[39;00m\u001b[39m'\u001b[39m \u001b[39m%\u001b[39m (ch_name,))\n",
      "\u001b[0;31mValueError\u001b[0m: 'T5' is not in list"
     ]
    }
   ],
   "source": [
    "raw = raw.reorder_channels(channels_order)\n"
   ]
  },
  {
   "cell_type": "code",
   "execution_count": 24,
   "metadata": {},
   "outputs": [
    {
     "data": {
      "text/plain": [
       "['Fp1',\n",
       " 'Fp2',\n",
       " 'F3',\n",
       " 'F4',\n",
       " 'C3',\n",
       " 'C4',\n",
       " 'P3',\n",
       " 'P4',\n",
       " 'O1',\n",
       " 'O2',\n",
       " 'F7',\n",
       " 'F8',\n",
       " 'T7',\n",
       " 'T8',\n",
       " 'P7',\n",
       " 'P8',\n",
       " 'Fz',\n",
       " 'Cz',\n",
       " 'Pz']"
      ]
     },
     "execution_count": 24,
     "metadata": {},
     "output_type": "execute_result"
    }
   ],
   "source": [
    "raw.ch_names"
   ]
  },
  {
   "cell_type": "code",
   "execution_count": 2,
   "metadata": {},
   "outputs": [],
   "source": [
    "# Make a list of path to all edf files in the subfolders of /nobackup/tsal-tmp/tuh_eeg\n",
    "# files = []\n",
    "\n",
    "# with tqdm() as pbar:\n",
    "#     for root, dirs, file in os.walk(\"/nobackup/tsal-tmp/tuh_eeg\"):\n",
    "#         for name in file:\n",
    "#             if name.endswith(\".edf\"):\n",
    "#                 files.append(os.path.join(root, name))\n",
    "#                 pbar.update(1)\n",
    "\n",
    "# Save list of files as pickle\n",
    "# import pickle\n",
    "# with open('tuh_files.pkl', 'wb') as f:\n",
    "#     pickle.dump(files, f)\n",
    "    \n",
    "# Load list of files from pickle\n",
    "# import pickle\n",
    "# with open('tuh_files.pkl', 'rb') as f:\n",
    "#     files = pickle.load(f)\n",
    "    \n",
    "# random.shuffle(files)"
   ]
  },
  {
   "cell_type": "code",
   "execution_count": 3,
   "metadata": {},
   "outputs": [],
   "source": [
    "# import pickle\n",
    "# with open('tuh_files.pkl', 'rb') as f:\n",
    "#     files = pickle.load(f)\n",
    "\n",
    "# Copy all files in tuh_final_selected.txt to data/tuh_eeg/\n",
    "# with open('tuh_final_selected.txt', 'r') as f:\n",
    "#     selected = f.read().splitlines()\n",
    "\n",
    "# selected = [file.split(\"/\")[-1] for file in selected]\n",
    "\n",
    "# Delete all files in /scratch/s194260/tuh_eeg/ that are not in selected\n",
    "# for file in os.listdir('/scratch/s194260/tuh_eeg/'):\n",
    "#     if file not in selected:\n",
    "#         os.remove('/scratch/s194260/tuh_eeg/' + file)"
   ]
  }
 ],
 "metadata": {
  "kernelspec": {
   "display_name": "Python 3",
   "language": "python",
   "name": "python3"
  },
  "language_info": {
   "codemirror_mode": {
    "name": "ipython",
    "version": 3
   },
   "file_extension": ".py",
   "mimetype": "text/x-python",
   "name": "python",
   "nbconvert_exporter": "python",
   "pygments_lexer": "ipython3",
   "version": "3.10.9"
  },
  "orig_nbformat": 4
 },
 "nbformat": 4,
 "nbformat_minor": 2
}
